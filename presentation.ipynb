{
 "cells": [
  {
   "cell_type": "code",
   "execution_count": 2,
   "metadata": {},
   "outputs": [],
   "source": [
    "import numpy as np\n",
    "import matplotlib.pyplot as plt"
   ]
  },
  {
   "cell_type": "markdown",
   "metadata": {},
   "source": [
    "- Variables: \n",
    "  <br>\n",
    "  <br> $X_{ij}$: El empleado i es asignado al proyecto j. $∀ i ∈ [1,n]$, $∀ j ∈ [1,M]$<br>\n",
    "  $C_{ij}$: Matriz de costos asociados <br>\n",
    "  $P_{j}$: Vector de cantidad de horas trabajadas <br>\n",
    "  \n",
    "- Funcion objetivo: <br><br>\n",
    "  min Z = $\\sum_{i=1}^{N}\\sum_{j=1}^{m}x_{ij}⋅C_{ij}$\n",
    "  <br><br>\n",
    "- Restricciones:<br>\n",
    "  \n",
    "  $X_{ij} > 0 ∀ i ∈ {1,..,N}, ∀ j ∈ {1,..,M}$\n",
    "  "
   ]
  },
  {
   "cell_type": "code",
   "execution_count": null,
   "metadata": {},
   "outputs": [],
   "source": []
  }
 ],
 "metadata": {
  "kernelspec": {
   "display_name": "Python 3.9.5 64-bit",
   "language": "python",
   "name": "python3"
  },
  "language_info": {
   "codemirror_mode": {
    "name": "ipython",
    "version": 3
   },
   "file_extension": ".py",
   "mimetype": "text/x-python",
   "name": "python",
   "nbconvert_exporter": "python",
   "pygments_lexer": "ipython3",
   "version": "3.9.5"
  },
  "orig_nbformat": 4,
  "vscode": {
   "interpreter": {
    "hash": "a848212ff54100e7182d717dda39f3fd7812614104681f5fa5f909bc27a9636d"
   }
  }
 },
 "nbformat": 4,
 "nbformat_minor": 2
}
